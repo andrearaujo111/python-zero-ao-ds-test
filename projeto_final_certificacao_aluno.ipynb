{
 "cells": [
  {
   "cell_type": "markdown",
   "id": "2947e631",
   "metadata": {
    "id": "2947e631"
   },
   "source": [
    "# RESOLUÇÃO DO PROJETO DE CERTIFICAÇÃO"
   ]
  },
  {
   "cell_type": "markdown",
   "id": "b9d40a5c",
   "metadata": {
    "heading_collapsed": true,
    "id": "b9d40a5c"
   },
   "source": [
    "## Contexto do Problema"
   ]
  },
  {
   "cell_type": "markdown",
   "id": "ca987b85",
   "metadata": {
    "hidden": true,
    "id": "ca987b85"
   },
   "source": [
    "O investidor James Bauer gostaria de diversificar seus negócios e começar a investir em imóveis. Ele definiu que compraria imóveis na cidade de Nova York, nos Estados Unidos. Por ser um dos locais mais caros para se viver no País, ele acredita que obterá um retorno satisfatório de seus investimentos caso loque imóveis na cidade. Como todas as suas decisões são tomadas com base em dados, ele contratou você, cientista de dados, para ajudá-lo nessa empreitada.\n",
    "\n",
    "James Bauer planeja inicialmente locar os imóveis adquiridos e por isso ele definiu que irá utilizar a plataforma Airbnb para esse fim. Para isso, ele lhe entregou uma base de dados públicos da empresa, contendo os dados do comportamento dos hosts e de seus imóveis.\n",
    "\n",
    "Lembrando que o contexto, pessoas e perguntas são completamente fictícios e existem somente na minha imaginação."
   ]
  },
  {
   "cell_type": "markdown",
   "id": "165cc088",
   "metadata": {
    "heading_collapsed": true,
    "id": "165cc088"
   },
   "source": [
    "## O Desafio"
   ]
  },
  {
   "cell_type": "markdown",
   "id": "670773fa",
   "metadata": {
    "hidden": true,
    "id": "670773fa"
   },
   "source": [
    "James Bauer o contratou para realizar o estudo da base de dados fornecida e ajudá-lo com a escolha das regiões onde há maior locação e maiores preços, e que fiquem em regiões favoráveis da cidade de Nova York, pois ele acredita que essas características irão ajudá-lo a recuperar o dinheiro investido na aquisição desses imóveis mais rapidamente. Além disso, James Bauer pretende \n",
    "\n",
    "Dessa forma, seu trabalho é realizar uma análise exploratória e responder às seguintes perguntas feitas pelo Sr. James Bauer:\n",
    "\n",
    "1. Qual o `id` do imóvel com o aluguel (diária) mais caro da base de dados?\n",
    "2. Qual o `id` do imóvel com o aluguel (diária) mais barato da base de dados?\n",
    "3. Qual o `id` do imóvel que foi mais locado da base de dados?\n",
    "4. Qual o `id` do imóvel que ficou mais tempo com o anúncio disponível, em\n",
    "dias, para locação na base de dados?\n",
    "5. Qual o `id` do imóvel que ficou menos tempo com o anúncio disponível, em\n",
    "dias, para locação na base de dados?\n",
    "6. O imóvel com o maior valor de aluguel (diária) da base de dados é o imóvel\n",
    "que possui mais avaliações na base de dados?\n",
    "7. O imóvel que possui a menor quantidade mínima de diárias para locação é\n",
    "também o imóvel que possui o aluguel mais caro?\n",
    "8. Qual é a média do número mínimo de diárias para locação de um imóvel? \n",
    "9. Qual é o `id` do imóvel com a menor quantidade mínima de diárias para locação da base de dados?\n",
    "10. Qual é o `id` do host que possui o imóvel mais alugado na base de dados?\n",
    "11. Qual é o `id` do host que possui o imóvel menos alugado na base de dados?\n",
    "12. Qual é o `id` do host que possui o imóvel com mais avaliações na base de\n",
    "dados?\n",
    "13. Qual é o `id` do host que possui a maior quantidade de imóveis cadastrados\n",
    "na base de dados?\n",
    "14. Qual o `id` do host que possui o imóvel com a última avaliação feita na base\n",
    "de dados?\n",
    "15. Qual o `id` do host que possui mais imóveis ativos dentro da base de dados?\n",
    "16. O host que possui mais imóveis é o host que também possui mais\n",
    "avaliações?\n",
    "17. Qual é a categoria que mais possui imóveis dentro da base de dados?\n",
    "18. Qual é a categoria que menos possui imóveis dentro da base de dados?\n",
    "19. A região de Manhattan é a região que mais possui imóveis ativos para\n",
    "locação, da categoria `Private room`?\n",
    "20. Qual a categoria de imóvel que possui a maior média de tempo de\n",
    "disponibilidade para serem locados da região do `Bronx`? Considere somente\n",
    "imóveis ativos\n",
    "21. Qual a categoria de imóvel ativo que possui o maior valor de aluguel (diária)\n",
    "na região de `Manhattan`?\n",
    "22. A categoria de imóvel `Private Room` é a categoria que fica mais tempo\n",
    "disponível para locação?\n",
    "23. Qual a categoria de imóvel que fica mais tempo disponível, na média, para\n",
    "locação?\n",
    "24. A categoria de imóvel que fica menos tempo disponível, na média, para\n",
    "locação é a categoria que possui, em média, o menor aluguel (diária)?\n",
    "25. A categoria de imóvel `Entire home/apt` é a categoria que possui, na média, o\n",
    "maior valor de aluguel?\n",
    "26. A categoria de imóvel `Entire home/apt` é a categoria que possui, na média,\n",
    "menos locações?\n",
    "27. A categoria de imóvel `Private Room` na região de `Manhattan`, na média, é\n",
    "a categoria que possui o menor valor (diária) de locação, comparado as\n",
    "outras categorias na mesma região?\n",
    "28. Qual a região que possui a maior quantidade de imóveis?\n",
    "29. Qual a região que possui a menor quantidade de imóveis?\n",
    "30. A região que possui a maior quantidade de imóveis é também a região que\n",
    "possui os imóveis mais locados?\n",
    "31. Qual a região que possui a menor quantidade de imóveis locados dentro da\n",
    "base de dados?\n",
    "32. A região de `Manhattan` é a região que possui, na média, os maiores\n",
    "aluguéis (diárias) dentro da base de dados?\n",
    "33. A região de `Queens` é a região que possui, na média, os menores aluguéis\n",
    "(diárias) dentro da base de dados?\n",
    "34. Qual a região que possui, na média, os imóveis com os menores aluguéis\n",
    "dentro da base de dados?\n",
    "35. Qual a região que possui os imóveis que ficam, na média, menos tempo\n",
    "disponíveis para aluguel? Ou seja, são alugados mais rápidos na média?\n",
    "36. Qual o bairro possui a maior quantidade de imóveis ativos para locação?\n",
    "37. Qual o bairro possui a menor quantidade de imóveis ativos para locação?\n",
    "38. Qual bairro está o imóvel com o maior valor de aluguel?\n",
    "39. Qual bairro está o imóvel com o menor valor de aluguel?\n",
    "40. Qual região que possui o bairro com mais imóveis ativos disponíveis para\n",
    "locação?\n",
    "41. Qual região que possui o bairro com menos imóveis ativos disponíveis para\n",
    "locação?\n",
    "42. O Bairro `Upper West Side`, na região de `Manhattan`, é o bairro que possui,\n",
    "na média, o maior aluguel dentro da base de dados?\n",
    "43. Qual é o bairro que possui, na média, o aluguel mais caro da base de dados?\n",
    "44. Qual o id do imóvel que possui a melhor rentabilidade da base de dados?\n",
    "Levando em consideração o aluguel mais caro e imóvel mais rápido de\n",
    "alugar? Utilize somente os imóveis que estejam ativos e que possuam pelo\n",
    "menos uma avaliação. Utilize a seguinte fórmula para verificar qual o melhor\n",
    "imóvel:\n",
    "\n",
    "$$ 𝑟𝑒𝑛𝑡𝑎𝑏𝑖𝑙𝑖𝑑𝑎𝑑𝑒 = \\frac{𝑝𝑟𝑖𝑐𝑒 * (𝑚𝑖𝑛𝑖𝑚𝑢𝑚\\_𝑛𝑖𝑔ℎ𝑡𝑠 + 1) *  n𝑢𝑚𝑏𝑒𝑟\\_𝑜𝑓\\_𝑟𝑒𝑣𝑖𝑒𝑤𝑠}{ \\sqrt{𝑎𝑣𝑎𝑖𝑙𝑎𝑏𝑖𝑙𝑖𝑡𝑦_365}} $$\n",
    "\n",
    "45. Qual a região em que fica o melhor bairro para se adquirir um imóvel, visando\n",
    "a melhor rentabilidade média? Utilize como métrica o índice criado na\n",
    "questão anterior.\n",
    "46. Qual a região em que fica o pior bairro para se adquirir um imóvel, visando a melhor rentabilidade média? Utilize como métrica o índice criado na questão 44.\n",
    "47. Levando em conta o bairro encontrado na questão anterior, verifique qual é o\n",
    "`id` do imóvel ativo que possui a pior rentabilidade desse bairro\n",
    "48. Levando em conta o bairro da questão 45, verifique qual o `id` do imóvel ativo que possui a melhor rentabilidade desse bairro\n",
    "49. Caso eu, investidor, compre o imóvel da questão anterior com um\n",
    "investimento de U$ 1.000.000,00, quantas vezes eu teria que locá-lo para ter\n",
    "o retorno do investimento feito? Utilize a fórmula abaixo para calcular o tempo\n",
    "de retorno do investimento:\n",
    "\n",
    "$$ 𝑟𝑒𝑡𝑢𝑟𝑛_𝑖𝑛𝑣𝑒𝑠𝑡𝑚𝑒𝑛𝑡 = \\frac{𝑖𝑛𝑣𝑒𝑠𝑡𝑚𝑒𝑛𝑡}{𝑝𝑟𝑖𝑐𝑒 * (𝑚𝑖𝑛𝑖𝑚𝑢𝑚\\_𝑛𝑖𝑔ℎ𝑡𝑠 + 1)} $$\n",
    "\n",
    "50. Se eu desejasse comprar um imóvel que esteja ativo e com pelo menos uma avaliação em um dos bairros abaixo, qual seria o `id` do imóvel com a melhor rentabilidade dentre esses bairros? Utilize o índice calculado na questão 44.\n",
    "  * East Harlem\n",
    "  * Harlem\n",
    "  * Midtown\n",
    "  * Morningside Heights\n",
    "  * Upper West Side\n",
    "  * Upper East Side"
   ]
  },
  {
   "cell_type": "markdown",
   "id": "d0240178",
   "metadata": {
    "heading_collapsed": true,
    "id": "d0240178"
   },
   "source": [
    "## Os Dados"
   ]
  },
  {
   "cell_type": "markdown",
   "id": "31be0f41",
   "metadata": {
    "hidden": true,
    "id": "31be0f41"
   },
   "source": [
    "O conjunto de dados que representam o contexto está disponível na plataforma do Kaggle. O link para acesso aos dados :\n",
    "\n",
    "https://www.kaggle.com/datasets/dgomonov/new-york-city-airbnb-open-data\n"
   ]
  },
  {
   "cell_type": "markdown",
   "id": "a3a41c2a",
   "metadata": {
    "id": "a3a41c2a"
   },
   "source": [
    "## Solução do Desafio"
   ]
  },
  {
   "cell_type": "markdown",
   "id": "26f68b40",
   "metadata": {
    "heading_collapsed": true,
    "id": "26f68b40"
   },
   "source": [
    "### Imports de Bibliotecas"
   ]
  },
  {
   "cell_type": "code",
   "execution_count": 1,
   "id": "89188b73",
   "metadata": {
    "ExecuteTime": {
     "end_time": "2022-04-27T19:05:40.949559Z",
     "start_time": "2022-04-27T19:05:40.946604Z"
    },
    "hidden": true,
    "id": "89188b73"
   },
   "outputs": [],
   "source": [
    "import pandas as pd\n",
    "import numpy as np\n",
    "from IPython.display import Image\n",
    "\n",
    "pd.options.display.float_format = \"{:.2f}\".format"
   ]
  },
  {
   "cell_type": "markdown",
   "id": "d75baf0d",
   "metadata": {
    "heading_collapsed": true,
    "id": "d75baf0d"
   },
   "source": [
    "### Leitura do Arquivo"
   ]
  },
  {
   "cell_type": "code",
   "execution_count": 2,
   "id": "40c14a9c",
   "metadata": {
    "hidden": true,
    "id": "40c14a9c"
   },
   "outputs": [
    {
     "data": {
      "text/html": [
       "<div>\n",
       "<style scoped>\n",
       "    .dataframe tbody tr th:only-of-type {\n",
       "        vertical-align: middle;\n",
       "    }\n",
       "\n",
       "    .dataframe tbody tr th {\n",
       "        vertical-align: top;\n",
       "    }\n",
       "\n",
       "    .dataframe thead th {\n",
       "        text-align: right;\n",
       "    }\n",
       "</style>\n",
       "<table border=\"1\" class=\"dataframe\">\n",
       "  <thead>\n",
       "    <tr style=\"text-align: right;\">\n",
       "      <th></th>\n",
       "      <th>id</th>\n",
       "      <th>name</th>\n",
       "      <th>host_id</th>\n",
       "      <th>host_name</th>\n",
       "      <th>neighbourhood_group</th>\n",
       "      <th>neighbourhood</th>\n",
       "      <th>latitude</th>\n",
       "      <th>longitude</th>\n",
       "      <th>room_type</th>\n",
       "      <th>price</th>\n",
       "      <th>minimum_nights</th>\n",
       "      <th>number_of_reviews</th>\n",
       "      <th>last_review</th>\n",
       "      <th>reviews_per_month</th>\n",
       "      <th>calculated_host_listings_count</th>\n",
       "      <th>availability_365</th>\n",
       "    </tr>\n",
       "  </thead>\n",
       "  <tbody>\n",
       "    <tr>\n",
       "      <th>0</th>\n",
       "      <td>2539</td>\n",
       "      <td>Clean &amp; quiet apt home by the park</td>\n",
       "      <td>2787</td>\n",
       "      <td>John</td>\n",
       "      <td>Brooklyn</td>\n",
       "      <td>Kensington</td>\n",
       "      <td>40.65</td>\n",
       "      <td>-73.97</td>\n",
       "      <td>Private room</td>\n",
       "      <td>149</td>\n",
       "      <td>1</td>\n",
       "      <td>9</td>\n",
       "      <td>2018-10-19</td>\n",
       "      <td>0.21</td>\n",
       "      <td>6</td>\n",
       "      <td>365</td>\n",
       "    </tr>\n",
       "    <tr>\n",
       "      <th>1</th>\n",
       "      <td>2595</td>\n",
       "      <td>Skylit Midtown Castle</td>\n",
       "      <td>2845</td>\n",
       "      <td>Jennifer</td>\n",
       "      <td>Manhattan</td>\n",
       "      <td>Midtown</td>\n",
       "      <td>40.75</td>\n",
       "      <td>-73.98</td>\n",
       "      <td>Entire home/apt</td>\n",
       "      <td>225</td>\n",
       "      <td>1</td>\n",
       "      <td>45</td>\n",
       "      <td>2019-05-21</td>\n",
       "      <td>0.38</td>\n",
       "      <td>2</td>\n",
       "      <td>355</td>\n",
       "    </tr>\n",
       "    <tr>\n",
       "      <th>2</th>\n",
       "      <td>3647</td>\n",
       "      <td>THE VILLAGE OF HARLEM....NEW YORK !</td>\n",
       "      <td>4632</td>\n",
       "      <td>Elisabeth</td>\n",
       "      <td>Manhattan</td>\n",
       "      <td>Harlem</td>\n",
       "      <td>40.81</td>\n",
       "      <td>-73.94</td>\n",
       "      <td>Private room</td>\n",
       "      <td>150</td>\n",
       "      <td>3</td>\n",
       "      <td>0</td>\n",
       "      <td>NaN</td>\n",
       "      <td>NaN</td>\n",
       "      <td>1</td>\n",
       "      <td>365</td>\n",
       "    </tr>\n",
       "    <tr>\n",
       "      <th>3</th>\n",
       "      <td>3831</td>\n",
       "      <td>Cozy Entire Floor of Brownstone</td>\n",
       "      <td>4869</td>\n",
       "      <td>LisaRoxanne</td>\n",
       "      <td>Brooklyn</td>\n",
       "      <td>Clinton Hill</td>\n",
       "      <td>40.69</td>\n",
       "      <td>-73.96</td>\n",
       "      <td>Entire home/apt</td>\n",
       "      <td>89</td>\n",
       "      <td>1</td>\n",
       "      <td>270</td>\n",
       "      <td>2019-07-05</td>\n",
       "      <td>4.64</td>\n",
       "      <td>1</td>\n",
       "      <td>194</td>\n",
       "    </tr>\n",
       "    <tr>\n",
       "      <th>4</th>\n",
       "      <td>5022</td>\n",
       "      <td>Entire Apt: Spacious Studio/Loft by central park</td>\n",
       "      <td>7192</td>\n",
       "      <td>Laura</td>\n",
       "      <td>Manhattan</td>\n",
       "      <td>East Harlem</td>\n",
       "      <td>40.80</td>\n",
       "      <td>-73.94</td>\n",
       "      <td>Entire home/apt</td>\n",
       "      <td>80</td>\n",
       "      <td>10</td>\n",
       "      <td>9</td>\n",
       "      <td>2018-11-19</td>\n",
       "      <td>0.10</td>\n",
       "      <td>1</td>\n",
       "      <td>0</td>\n",
       "    </tr>\n",
       "  </tbody>\n",
       "</table>\n",
       "</div>"
      ],
      "text/plain": [
       "     id                                              name  host_id  \\\n",
       "0  2539                Clean & quiet apt home by the park     2787   \n",
       "1  2595                             Skylit Midtown Castle     2845   \n",
       "2  3647               THE VILLAGE OF HARLEM....NEW YORK !     4632   \n",
       "3  3831                   Cozy Entire Floor of Brownstone     4869   \n",
       "4  5022  Entire Apt: Spacious Studio/Loft by central park     7192   \n",
       "\n",
       "     host_name neighbourhood_group neighbourhood  latitude  longitude  \\\n",
       "0         John            Brooklyn    Kensington     40.65     -73.97   \n",
       "1     Jennifer           Manhattan       Midtown     40.75     -73.98   \n",
       "2    Elisabeth           Manhattan        Harlem     40.81     -73.94   \n",
       "3  LisaRoxanne            Brooklyn  Clinton Hill     40.69     -73.96   \n",
       "4        Laura           Manhattan   East Harlem     40.80     -73.94   \n",
       "\n",
       "         room_type  price  minimum_nights  number_of_reviews last_review  \\\n",
       "0     Private room    149               1                  9  2018-10-19   \n",
       "1  Entire home/apt    225               1                 45  2019-05-21   \n",
       "2     Private room    150               3                  0         NaN   \n",
       "3  Entire home/apt     89               1                270  2019-07-05   \n",
       "4  Entire home/apt     80              10                  9  2018-11-19   \n",
       "\n",
       "   reviews_per_month  calculated_host_listings_count  availability_365  \n",
       "0               0.21                               6               365  \n",
       "1               0.38                               2               355  \n",
       "2                NaN                               1               365  \n",
       "3               4.64                               1               194  \n",
       "4               0.10                               1                 0  "
      ]
     },
     "execution_count": 2,
     "metadata": {},
     "output_type": "execute_result"
    }
   ],
   "source": [
    "df_raw = pd.read_csv(r'C:\\Users\\andre\\repository\\python-zero-ao-ds-test\\data\\AB_NYC_2019.csv')\n",
    "df_raw.head(5)"
   ]
  },
  {
   "cell_type": "markdown",
   "id": "b3aa724b",
   "metadata": {
    "heading_collapsed": true,
    "id": "b3aa724b"
   },
   "source": [
    "### Entendimento dos dados"
   ]
  },
  {
   "cell_type": "code",
   "execution_count": 3,
   "id": "07bb3021",
   "metadata": {
    "hidden": true,
    "id": "07bb3021"
   },
   "outputs": [
    {
     "data": {
      "text/plain": [
       "(48895, 16)"
      ]
     },
     "execution_count": 3,
     "metadata": {},
     "output_type": "execute_result"
    }
   ],
   "source": [
    "# Data diimension\n",
    "df_raw.shape"
   ]
  },
  {
   "cell_type": "code",
   "execution_count": 4,
   "id": "230ef027",
   "metadata": {
    "hidden": true,
    "id": "230ef027"
   },
   "outputs": [
    {
     "data": {
      "text/plain": [
       "id                                  int64\n",
       "name                               object\n",
       "host_id                             int64\n",
       "host_name                          object\n",
       "neighbourhood_group                object\n",
       "neighbourhood                      object\n",
       "latitude                          float64\n",
       "longitude                         float64\n",
       "room_type                          object\n",
       "price                               int64\n",
       "minimum_nights                      int64\n",
       "number_of_reviews                   int64\n",
       "last_review                        object\n",
       "reviews_per_month                 float64\n",
       "calculated_host_listings_count      int64\n",
       "availability_365                    int64\n",
       "dtype: object"
      ]
     },
     "execution_count": 4,
     "metadata": {},
     "output_type": "execute_result"
    }
   ],
   "source": [
    "# Data Types\n",
    "df_raw.dtypes"
   ]
  },
  {
   "cell_type": "code",
   "execution_count": 5,
   "id": "17f013bb",
   "metadata": {},
   "outputs": [
    {
     "data": {
      "text/plain": [
       "id                                    0\n",
       "name                                 16\n",
       "host_id                               0\n",
       "host_name                            21\n",
       "neighbourhood_group                   0\n",
       "neighbourhood                         0\n",
       "latitude                              0\n",
       "longitude                             0\n",
       "room_type                             0\n",
       "price                                 0\n",
       "minimum_nights                        0\n",
       "number_of_reviews                     0\n",
       "last_review                       10052\n",
       "reviews_per_month                 10052\n",
       "calculated_host_listings_count        0\n",
       "availability_365                      0\n",
       "dtype: int64"
      ]
     },
     "execution_count": 5,
     "metadata": {},
     "output_type": "execute_result"
    }
   ],
   "source": [
    "# Missing data\n",
    "df_raw.isna().sum()"
   ]
  },
  {
   "cell_type": "markdown",
   "id": "ec656f3e",
   "metadata": {
    "heading_collapsed": true,
    "id": "ec656f3e"
   },
   "source": [
    "### Tratamento dos Dados"
   ]
  },
  {
   "cell_type": "markdown",
   "id": "2bbaf8c3",
   "metadata": {},
   "source": [
    "\"name\" e \"host_name\" não parecem ser um problema grave. Não precisaremos fazer o tratamento.4\n",
    "\n",
    "Já as colunas last review e reviewes per month, os nulos aparecem quando não há reviews. Portanto é uma questão do negócio natural, portanto não vamos fazer o tratamento\n",
    "As for last review and reviews per month, it seems that the null is caused by the number of reviews that is 0, so we will fill the na's with 0."
   ]
  },
  {
   "cell_type": "code",
   "execution_count": 6,
   "id": "9f41d04f",
   "metadata": {
    "hidden": true,
    "id": "9f41d04f"
   },
   "outputs": [
    {
     "name": "stderr",
     "output_type": "stream",
     "text": [
      "C:\\Users\\andre\\AppData\\Local\\Temp\\ipykernel_17976\\2988138662.py:2: FutureWarning: Inferring datetime64[ns] from data containing strings is deprecated and will be removed in a future version. To retain the old behavior explicitly pass Series(data, dtype=datetime64[ns])\n",
      "  df_raw['last_review'] = df_raw['last_review'].apply(lambda x: pd.to_datetime(x, format='%Y-%m-%d') if pd.notna(x)\n"
     ]
    }
   ],
   "source": [
    "# Converte Last review para data e \n",
    "df_raw['last_review'] = df_raw['last_review'].apply(lambda x: pd.to_datetime(x, format='%Y-%m-%d') if pd.notna(x) \n",
    "                                                    else \"NaN\")"
   ]
  },
  {
   "cell_type": "markdown",
   "id": "4a7ddfd5",
   "metadata": {},
   "source": [
    "### Estatística Descritiva"
   ]
  },
  {
   "cell_type": "code",
   "execution_count": 7,
   "id": "0fdc0574",
   "metadata": {},
   "outputs": [
    {
     "data": {
      "text/plain": [
       "id                                         int64\n",
       "name                                      object\n",
       "host_id                                    int64\n",
       "host_name                                 object\n",
       "neighbourhood_group                       object\n",
       "neighbourhood                             object\n",
       "latitude                                 float64\n",
       "longitude                                float64\n",
       "room_type                                 object\n",
       "price                                      int64\n",
       "minimum_nights                             int64\n",
       "number_of_reviews                          int64\n",
       "last_review                       datetime64[ns]\n",
       "reviews_per_month                        float64\n",
       "calculated_host_listings_count             int64\n",
       "availability_365                           int64\n",
       "dtype: object"
      ]
     },
     "execution_count": 7,
     "metadata": {},
     "output_type": "execute_result"
    }
   ],
   "source": [
    "df_raw.dtypes"
   ]
  },
  {
   "cell_type": "code",
   "execution_count": 8,
   "id": "006b9d31",
   "metadata": {},
   "outputs": [],
   "source": [
    "# Separando variáveis numéricas e categ[oricas\n",
    "num_attributes = df_raw.select_dtypes(include=['int64', 'float64'])\n",
    "cat_attributes = df_raw.select_dtypes(exclude=['int64', 'float64'])"
   ]
  },
  {
   "cell_type": "markdown",
   "id": "c3bdd033",
   "metadata": {},
   "source": [
    "#### Variáveis Numéricas"
   ]
  },
  {
   "cell_type": "code",
   "execution_count": 9,
   "id": "81a0fef5",
   "metadata": {},
   "outputs": [
    {
     "data": {
      "text/html": [
       "<div>\n",
       "<style scoped>\n",
       "    .dataframe tbody tr th:only-of-type {\n",
       "        vertical-align: middle;\n",
       "    }\n",
       "\n",
       "    .dataframe tbody tr th {\n",
       "        vertical-align: top;\n",
       "    }\n",
       "\n",
       "    .dataframe thead th {\n",
       "        text-align: right;\n",
       "    }\n",
       "</style>\n",
       "<table border=\"1\" class=\"dataframe\">\n",
       "  <thead>\n",
       "    <tr style=\"text-align: right;\">\n",
       "      <th></th>\n",
       "      <th>attribute</th>\n",
       "      <th>mean</th>\n",
       "      <th>median</th>\n",
       "      <th>min</th>\n",
       "      <th>max</th>\n",
       "      <th>range</th>\n",
       "      <th>std_dev</th>\n",
       "      <th>skew</th>\n",
       "      <th>kurtosis</th>\n",
       "    </tr>\n",
       "  </thead>\n",
       "  <tbody>\n",
       "    <tr>\n",
       "      <th>0</th>\n",
       "      <td>id</td>\n",
       "      <td>19017143.24</td>\n",
       "      <td>19677284.00</td>\n",
       "      <td>2539.00</td>\n",
       "      <td>36487245.00</td>\n",
       "      <td>36484706.00</td>\n",
       "      <td>10982996.07</td>\n",
       "      <td>-0.09</td>\n",
       "      <td>-1.23</td>\n",
       "    </tr>\n",
       "    <tr>\n",
       "      <th>1</th>\n",
       "      <td>host_id</td>\n",
       "      <td>67620010.65</td>\n",
       "      <td>30793816.00</td>\n",
       "      <td>2438.00</td>\n",
       "      <td>274321313.00</td>\n",
       "      <td>274318875.00</td>\n",
       "      <td>78610163.15</td>\n",
       "      <td>1.21</td>\n",
       "      <td>0.17</td>\n",
       "    </tr>\n",
       "    <tr>\n",
       "      <th>2</th>\n",
       "      <td>latitude</td>\n",
       "      <td>40.73</td>\n",
       "      <td>40.72</td>\n",
       "      <td>40.50</td>\n",
       "      <td>40.91</td>\n",
       "      <td>0.41</td>\n",
       "      <td>0.05</td>\n",
       "      <td>0.24</td>\n",
       "      <td>0.15</td>\n",
       "    </tr>\n",
       "    <tr>\n",
       "      <th>3</th>\n",
       "      <td>longitude</td>\n",
       "      <td>-73.95</td>\n",
       "      <td>-73.96</td>\n",
       "      <td>-74.24</td>\n",
       "      <td>-73.71</td>\n",
       "      <td>0.53</td>\n",
       "      <td>0.05</td>\n",
       "      <td>1.28</td>\n",
       "      <td>5.02</td>\n",
       "    </tr>\n",
       "    <tr>\n",
       "      <th>4</th>\n",
       "      <td>price</td>\n",
       "      <td>152.72</td>\n",
       "      <td>106.00</td>\n",
       "      <td>0.00</td>\n",
       "      <td>10000.00</td>\n",
       "      <td>10000.00</td>\n",
       "      <td>240.15</td>\n",
       "      <td>19.12</td>\n",
       "      <td>585.67</td>\n",
       "    </tr>\n",
       "    <tr>\n",
       "      <th>5</th>\n",
       "      <td>minimum_nights</td>\n",
       "      <td>7.03</td>\n",
       "      <td>3.00</td>\n",
       "      <td>1.00</td>\n",
       "      <td>1250.00</td>\n",
       "      <td>1249.00</td>\n",
       "      <td>20.51</td>\n",
       "      <td>21.83</td>\n",
       "      <td>854.07</td>\n",
       "    </tr>\n",
       "    <tr>\n",
       "      <th>6</th>\n",
       "      <td>number_of_reviews</td>\n",
       "      <td>23.27</td>\n",
       "      <td>5.00</td>\n",
       "      <td>0.00</td>\n",
       "      <td>629.00</td>\n",
       "      <td>629.00</td>\n",
       "      <td>44.55</td>\n",
       "      <td>3.69</td>\n",
       "      <td>19.53</td>\n",
       "    </tr>\n",
       "    <tr>\n",
       "      <th>7</th>\n",
       "      <td>reviews_per_month</td>\n",
       "      <td>1.37</td>\n",
       "      <td>NaN</td>\n",
       "      <td>0.01</td>\n",
       "      <td>58.50</td>\n",
       "      <td>58.49</td>\n",
       "      <td>1.68</td>\n",
       "      <td>3.13</td>\n",
       "      <td>42.49</td>\n",
       "    </tr>\n",
       "    <tr>\n",
       "      <th>8</th>\n",
       "      <td>calculated_host_listings_count</td>\n",
       "      <td>7.14</td>\n",
       "      <td>1.00</td>\n",
       "      <td>1.00</td>\n",
       "      <td>327.00</td>\n",
       "      <td>326.00</td>\n",
       "      <td>32.95</td>\n",
       "      <td>7.93</td>\n",
       "      <td>67.55</td>\n",
       "    </tr>\n",
       "    <tr>\n",
       "      <th>9</th>\n",
       "      <td>availability_365</td>\n",
       "      <td>112.78</td>\n",
       "      <td>45.00</td>\n",
       "      <td>0.00</td>\n",
       "      <td>365.00</td>\n",
       "      <td>365.00</td>\n",
       "      <td>131.62</td>\n",
       "      <td>0.76</td>\n",
       "      <td>-1.00</td>\n",
       "    </tr>\n",
       "  </tbody>\n",
       "</table>\n",
       "</div>"
      ],
      "text/plain": [
       "                        attribute        mean      median     min  \\\n",
       "0                              id 19017143.24 19677284.00 2539.00   \n",
       "1                         host_id 67620010.65 30793816.00 2438.00   \n",
       "2                        latitude       40.73       40.72   40.50   \n",
       "3                       longitude      -73.95      -73.96  -74.24   \n",
       "4                           price      152.72      106.00    0.00   \n",
       "5                  minimum_nights        7.03        3.00    1.00   \n",
       "6               number_of_reviews       23.27        5.00    0.00   \n",
       "7               reviews_per_month        1.37         NaN    0.01   \n",
       "8  calculated_host_listings_count        7.14        1.00    1.00   \n",
       "9                availability_365      112.78       45.00    0.00   \n",
       "\n",
       "           max        range     std_dev  skew  kurtosis  \n",
       "0  36487245.00  36484706.00 10982996.07 -0.09     -1.23  \n",
       "1 274321313.00 274318875.00 78610163.15  1.21      0.17  \n",
       "2        40.91         0.41        0.05  0.24      0.15  \n",
       "3       -73.71         0.53        0.05  1.28      5.02  \n",
       "4     10000.00     10000.00      240.15 19.12    585.67  \n",
       "5      1250.00      1249.00       20.51 21.83    854.07  \n",
       "6       629.00       629.00       44.55  3.69     19.53  \n",
       "7        58.50        58.49        1.68  3.13     42.49  \n",
       "8       327.00       326.00       32.95  7.93     67.55  \n",
       "9       365.00       365.00      131.62  0.76     -1.00  "
      ]
     },
     "execution_count": 9,
     "metadata": {},
     "output_type": "execute_result"
    }
   ],
   "source": [
    "# Tendências Centrais (media e mediana)\n",
    "ct1 = pd.DataFrame(num_attributes.apply(np.mean)).T\n",
    "ct2 = pd.DataFrame(num_attributes.apply(np.median)).T\n",
    "\n",
    "# Medidas de Dispersão (desvio padrao, minimo, maximo, range, kurtosis, skew)\n",
    "d1 = pd.DataFrame(num_attributes.min()).T\n",
    "d2 = pd.DataFrame(num_attributes.max()).T\n",
    "d3 = pd.DataFrame(num_attributes.max() - num_attributes.min()).T\n",
    "d4 = pd.DataFrame(num_attributes.apply(np.std)).T\n",
    "d5 = pd.DataFrame(num_attributes.apply(lambda x: x.skew())).T\n",
    "d6 = pd.DataFrame(num_attributes.apply(lambda x: x.kurtosis())).T\n",
    "\n",
    "# Creating DataFrame\n",
    "statistical_attributes = pd.concat([ct1, ct2, d1, d2, d3, d4, d5, d6]).T.reset_index()\n",
    "\n",
    "statistical_attributes.columns = ['attribute', 'mean', 'median', 'min', 'max', 'range',\n",
    "                                  'std_dev', 'skew', 'kurtosis']\n",
    "\n",
    "statistical_attributes"
   ]
  },
  {
   "cell_type": "markdown",
   "id": "e4025335",
   "metadata": {},
   "source": [
    "### Feature Engineering"
   ]
  },
  {
   "cell_type": "code",
   "execution_count": 10,
   "id": "6e879e62",
   "metadata": {},
   "outputs": [],
   "source": [
    "df1 = df_raw.copy()"
   ]
  },
  {
   "cell_type": "code",
   "execution_count": 11,
   "id": "e3a6cef3",
   "metadata": {},
   "outputs": [],
   "source": [
    "# Disponibilidade\n",
    "df1['availability'] = df1['availability_365'].apply(lambda x: 1 if x > 1 else 0)\n",
    "\n",
    "# Days since last review\n",
    "max_last_review = df1['last_review'].max()\n",
    "df1['days_since_last_review'] = (max_last_review - df1['last_review']) / np.timedelta64(1, 'D')"
   ]
  },
  {
   "cell_type": "code",
   "execution_count": 12,
   "id": "bf49c174",
   "metadata": {},
   "outputs": [
    {
     "data": {
      "text/html": [
       "<div>\n",
       "<style scoped>\n",
       "    .dataframe tbody tr th:only-of-type {\n",
       "        vertical-align: middle;\n",
       "    }\n",
       "\n",
       "    .dataframe tbody tr th {\n",
       "        vertical-align: top;\n",
       "    }\n",
       "\n",
       "    .dataframe thead th {\n",
       "        text-align: right;\n",
       "    }\n",
       "</style>\n",
       "<table border=\"1\" class=\"dataframe\">\n",
       "  <thead>\n",
       "    <tr style=\"text-align: right;\">\n",
       "      <th></th>\n",
       "      <th>id</th>\n",
       "      <th>name</th>\n",
       "      <th>host_id</th>\n",
       "      <th>host_name</th>\n",
       "      <th>neighbourhood_group</th>\n",
       "      <th>neighbourhood</th>\n",
       "      <th>latitude</th>\n",
       "      <th>longitude</th>\n",
       "      <th>room_type</th>\n",
       "      <th>price</th>\n",
       "      <th>minimum_nights</th>\n",
       "      <th>number_of_reviews</th>\n",
       "      <th>last_review</th>\n",
       "      <th>reviews_per_month</th>\n",
       "      <th>calculated_host_listings_count</th>\n",
       "      <th>availability_365</th>\n",
       "      <th>availability</th>\n",
       "      <th>days_since_last_review</th>\n",
       "    </tr>\n",
       "  </thead>\n",
       "  <tbody>\n",
       "    <tr>\n",
       "      <th>10084</th>\n",
       "      <td>7733896</td>\n",
       "      <td>Big Master bedroom with attached Private Bathroom</td>\n",
       "      <td>1036161</td>\n",
       "      <td>Blake</td>\n",
       "      <td>Brooklyn</td>\n",
       "      <td>Bedford-Stuyvesant</td>\n",
       "      <td>40.68</td>\n",
       "      <td>-73.95</td>\n",
       "      <td>Private room</td>\n",
       "      <td>220</td>\n",
       "      <td>1</td>\n",
       "      <td>88</td>\n",
       "      <td>2019-06-02</td>\n",
       "      <td>1.84</td>\n",
       "      <td>2</td>\n",
       "      <td>60</td>\n",
       "      <td>1</td>\n",
       "      <td>36.00</td>\n",
       "    </tr>\n",
       "    <tr>\n",
       "      <th>43362</th>\n",
       "      <td>33611988</td>\n",
       "      <td>Spacious,Quite,beautiful room in Astoria-Ditmars</td>\n",
       "      <td>64453547</td>\n",
       "      <td>Onur</td>\n",
       "      <td>Queens</td>\n",
       "      <td>Ditmars Steinway</td>\n",
       "      <td>40.78</td>\n",
       "      <td>-73.91</td>\n",
       "      <td>Private room</td>\n",
       "      <td>53</td>\n",
       "      <td>20</td>\n",
       "      <td>0</td>\n",
       "      <td>NaT</td>\n",
       "      <td>NaN</td>\n",
       "      <td>3</td>\n",
       "      <td>0</td>\n",
       "      <td>0</td>\n",
       "      <td>NaN</td>\n",
       "    </tr>\n",
       "    <tr>\n",
       "      <th>40525</th>\n",
       "      <td>31413351</td>\n",
       "      <td>Private entrance, own bathroom, comfy  &amp; sunshine</td>\n",
       "      <td>33614329</td>\n",
       "      <td>Walter</td>\n",
       "      <td>Brooklyn</td>\n",
       "      <td>Bushwick</td>\n",
       "      <td>40.70</td>\n",
       "      <td>-73.93</td>\n",
       "      <td>Entire home/apt</td>\n",
       "      <td>85</td>\n",
       "      <td>1</td>\n",
       "      <td>36</td>\n",
       "      <td>2019-07-03</td>\n",
       "      <td>6.10</td>\n",
       "      <td>4</td>\n",
       "      <td>210</td>\n",
       "      <td>1</td>\n",
       "      <td>5.00</td>\n",
       "    </tr>\n",
       "  </tbody>\n",
       "</table>\n",
       "</div>"
      ],
      "text/plain": [
       "             id                                               name   host_id  \\\n",
       "10084   7733896  Big Master bedroom with attached Private Bathroom   1036161   \n",
       "43362  33611988   Spacious,Quite,beautiful room in Astoria-Ditmars  64453547   \n",
       "40525  31413351  Private entrance, own bathroom, comfy  & sunshine  33614329   \n",
       "\n",
       "      host_name neighbourhood_group       neighbourhood  latitude  longitude  \\\n",
       "10084     Blake            Brooklyn  Bedford-Stuyvesant     40.68     -73.95   \n",
       "43362      Onur              Queens    Ditmars Steinway     40.78     -73.91   \n",
       "40525    Walter            Brooklyn            Bushwick     40.70     -73.93   \n",
       "\n",
       "             room_type  price  minimum_nights  number_of_reviews last_review  \\\n",
       "10084     Private room    220               1                 88  2019-06-02   \n",
       "43362     Private room     53              20                  0         NaT   \n",
       "40525  Entire home/apt     85               1                 36  2019-07-03   \n",
       "\n",
       "       reviews_per_month  calculated_host_listings_count  availability_365  \\\n",
       "10084               1.84                               2                60   \n",
       "43362                NaN                               3                 0   \n",
       "40525               6.10                               4               210   \n",
       "\n",
       "       availability  days_since_last_review  \n",
       "10084             1                   36.00  \n",
       "43362             0                     NaN  \n",
       "40525             1                    5.00  "
      ]
     },
     "execution_count": 12,
     "metadata": {},
     "output_type": "execute_result"
    }
   ],
   "source": [
    "df1.sample(3)"
   ]
  },
  {
   "cell_type": "markdown",
   "id": "c10ee88a",
   "metadata": {
    "id": "c10ee88a"
   },
   "source": [
    "#### Respondendo as Perguntas do Investidor"
   ]
  },
  {
   "cell_type": "markdown",
   "id": "9e8c1898",
   "metadata": {
    "heading_collapsed": true,
    "id": "9e8c1898"
   },
   "source": [
    "##### 1. Qual o `id` do imóvel com o aluguel (diária) mais caro da base de dados"
   ]
  },
  {
   "cell_type": "code",
   "execution_count": 13,
   "id": "997412b7",
   "metadata": {
    "hidden": true,
    "id": "997412b7"
   },
   "outputs": [
    {
     "data": {
      "text/plain": [
       "7003697"
      ]
     },
     "execution_count": 13,
     "metadata": {},
     "output_type": "execute_result"
    }
   ],
   "source": [
    "# Seleciono o maior preço\n",
    "max_price = df1['price'].max()\n",
    "\n",
    "# Seleciono os imóveis com maior preço. Como temos mais de um, uso como critério a disponibilidade\n",
    "r1 = df1.loc[(df1['price'] == max_price)].sort_values(by='id', ascending=True).reset_index(drop=True).loc[0, 'id']\n",
    "r1"
   ]
  },
  {
   "cell_type": "markdown",
   "id": "17b1bfd2",
   "metadata": {
    "hidden": true,
    "id": "695ce607"
   },
   "source": [
    "**id: 7003697**"
   ]
  },
  {
   "cell_type": "markdown",
   "id": "9ebd9552",
   "metadata": {
    "heading_collapsed": true,
    "id": "9ebd9552"
   },
   "source": [
    "##### 2. Qual o `id` do imóvel com o aluguel (diária) mais barato da base de dados? Excluo aqueles que estão com valor de diária = 0"
   ]
  },
  {
   "cell_type": "code",
   "execution_count": 14,
   "id": "079f9c1e",
   "metadata": {
    "hidden": true,
    "id": "079f9c1e"
   },
   "outputs": [
    {
     "data": {
      "text/plain": [
       "1620248"
      ]
     },
     "execution_count": 14,
     "metadata": {},
     "output_type": "execute_result"
    }
   ],
   "source": [
    "# Seleciono o menor preço\n",
    "min_price = df1[df1['price'] != 0]['price'].min()\n",
    "\n",
    "# Seleciono os imóveis com menor preço. Como temos mais de um, aplicamos o critério da disponibilidade\n",
    "r2 = df1.loc[(df1['price'] == min_price)].sort_values(by='id', ascending=True).reset_index(drop=True).loc[0, 'id']\n",
    "r2"
   ]
  },
  {
   "cell_type": "markdown",
   "id": "8110f0be",
   "metadata": {},
   "source": [
    "**id: 1620248**"
   ]
  },
  {
   "cell_type": "markdown",
   "id": "41f0586c",
   "metadata": {
    "heading_collapsed": true,
    "id": "41f0586c"
   },
   "source": [
    "##### 3. Qual o `id`  do imóvel que foi mais locado da base de dados?*"
   ]
  },
  {
   "cell_type": "code",
   "execution_count": 15,
   "id": "2ca99865",
   "metadata": {
    "hidden": true,
    "id": "2ca99865"
   },
   "outputs": [
    {
     "data": {
      "text/plain": [
       "9145202"
      ]
     },
     "execution_count": 15,
     "metadata": {},
     "output_type": "execute_result"
    }
   ],
   "source": [
    "r3 = df1[['id', 'number_of_reviews']].sort_values('number_of_reviews', ascending=False).reset_index(drop=True).loc[0, 'id']\n",
    "r3"
   ]
  },
  {
   "cell_type": "markdown",
   "id": "0889307b",
   "metadata": {},
   "source": [
    "**id: 9145202**"
   ]
  },
  {
   "cell_type": "markdown",
   "id": "48d40ea0",
   "metadata": {
    "heading_collapsed": true,
    "id": "48d40ea0"
   },
   "source": [
    "##### 4. Qual o `id`  do imóvel que ficou mais tempo com o anúncio disponível, em dias, para locação na base de dados?*"
   ]
  },
  {
   "cell_type": "code",
   "execution_count": 16,
   "id": "1f4da28e",
   "metadata": {
    "hidden": true,
    "id": "1f4da28e"
   },
   "outputs": [
    {
     "data": {
      "text/plain": [
       "74860"
      ]
     },
     "execution_count": 16,
     "metadata": {},
     "output_type": "execute_result"
    }
   ],
   "source": [
    "r4 = df1[['id', 'days_since_last_review']].sort_values('days_since_last_review', \n",
    "                                                        ascending=False).reset_index(drop=True).loc[0, 'id']\n",
    "r4"
   ]
  },
  {
   "cell_type": "markdown",
   "id": "4bf4679b",
   "metadata": {
    "hidden": true,
    "id": "a7ac802e"
   },
   "source": [
    "**id: 74860** "
   ]
  },
  {
   "cell_type": "markdown",
   "id": "42053201",
   "metadata": {
    "heading_collapsed": true,
    "id": "42053201"
   },
   "source": [
    "##### 5. Qual o `id` do imóvel que ficou menos tempo com o anúncio disponível, em dias, para locação na base de dados?"
   ]
  },
  {
   "cell_type": "code",
   "execution_count": 17,
   "id": "fd9df34e",
   "metadata": {
    "hidden": true,
    "id": "fd9df34e"
   },
   "outputs": [
    {
     "data": {
      "text/plain": [
       "100184"
      ]
     },
     "execution_count": 17,
     "metadata": {},
     "output_type": "execute_result"
    }
   ],
   "source": [
    "r5 = df1[['id', 'days_since_last_review']].sort_values(['days_since_last_review', 'id'], \n",
    "                                                       ascending=True).reset_index(drop=True).loc[0, 'id']\n",
    "r5"
   ]
  },
  {
   "cell_type": "markdown",
   "id": "e3dda0c1",
   "metadata": {},
   "source": [
    "**id: 100184**"
   ]
  },
  {
   "cell_type": "markdown",
   "id": "8fe1e6c1",
   "metadata": {
    "heading_collapsed": true,
    "id": "8fe1e6c1"
   },
   "source": [
    "##### 6. O imóvel com o maior valor de aluguel (diária) da base de dados é o imóvel que possui mais avaliações na base de dados?*"
   ]
  },
  {
   "cell_type": "code",
   "execution_count": 18,
   "id": "faba7ace",
   "metadata": {
    "hidden": true,
    "id": "e0b9a40c"
   },
   "outputs": [
    {
     "name": "stdout",
     "output_type": "stream",
     "text": [
      "Falso\n"
     ]
    }
   ],
   "source": [
    "r6 = df1[['id', 'number_of_reviews']].sort_values(by='number_of_reviews', ascending=False).reset_index(drop=True).loc[0, 'id']\n",
    "\n",
    "if r6 == r1:\n",
    "    print('Verdadeiro')\n",
    "else: \n",
    "    print('Falso')"
   ]
  },
  {
   "cell_type": "markdown",
   "id": "b21782e7",
   "metadata": {},
   "source": [
    "**Falso** "
   ]
  },
  {
   "cell_type": "markdown",
   "id": "9147e329",
   "metadata": {
    "heading_collapsed": true,
    "id": "9147e329"
   },
   "source": [
    "##### 7. O imóvel que possui a menor quantidade mínima de diárias para locação é também o imóvel que possuí o aluguel mais caro?"
   ]
  },
  {
   "cell_type": "code",
   "execution_count": 19,
   "id": "c66900f8",
   "metadata": {
    "hidden": true,
    "id": "c66900f8"
   },
   "outputs": [
    {
     "name": "stdout",
     "output_type": "stream",
     "text": [
      "Falso\n"
     ]
    }
   ],
   "source": [
    "min_minimum_nights = df1['minimum_nights'].min()\n",
    "\n",
    "r7 = df1[df1['minimum_nights'] == min_minimum_nights].sort_values(by='id', ascending=True).reset_index(drop=True).loc[0, 'id']\n",
    "r7\n",
    "\n",
    "if r7 == r1:\n",
    "    print('Verdadeiro')\n",
    "else:\n",
    "    print('Falso')"
   ]
  },
  {
   "cell_type": "markdown",
   "id": "261e47de",
   "metadata": {},
   "source": [
    "**Falso**"
   ]
  },
  {
   "cell_type": "markdown",
   "id": "5b61000c",
   "metadata": {
    "heading_collapsed": true,
    "id": "5b61000c"
   },
   "source": [
    "##### 8. Qual é a média do número mínimo de diárias para locação de um imóvel? "
   ]
  },
  {
   "cell_type": "code",
   "execution_count": 20,
   "id": "18bb68f4",
   "metadata": {
    "hidden": true,
    "id": "18bb68f4"
   },
   "outputs": [
    {
     "data": {
      "text/plain": [
       "7.03"
      ]
     },
     "execution_count": 20,
     "metadata": {},
     "output_type": "execute_result"
    }
   ],
   "source": [
    "r8 = round(np.mean(df1['minimum_nights']), 2)\n",
    "r8"
   ]
  },
  {
   "cell_type": "markdown",
   "id": "02de9acd",
   "metadata": {
    "hidden": true,
    "id": "c3efcccc"
   },
   "source": [
    "**7.03**"
   ]
  },
  {
   "cell_type": "markdown",
   "id": "7bf14986",
   "metadata": {
    "heading_collapsed": true,
    "id": "7bf14986"
   },
   "source": [
    "##### 9. Qual é o `id` do imóvel com a menor quantidade mínima de diárias para locação da base de dados?"
   ]
  },
  {
   "cell_type": "code",
   "execution_count": 21,
   "id": "de5756af",
   "metadata": {
    "hidden": true,
    "id": "de5756af"
   },
   "outputs": [
    {
     "data": {
      "text/plain": [
       "2539"
      ]
     },
     "execution_count": 21,
     "metadata": {},
     "output_type": "execute_result"
    }
   ],
   "source": [
    "r9 = r7\n",
    "r9 "
   ]
  },
  {
   "cell_type": "markdown",
   "id": "2eafe9eb",
   "metadata": {},
   "source": [
    "**id: 2539**"
   ]
  },
  {
   "cell_type": "markdown",
   "id": "cecba7a6",
   "metadata": {
    "heading_collapsed": true,
    "id": "cecba7a6"
   },
   "source": [
    "##### 10. Qual é o `id` do host que possui o imóvel mais alugado na base de dados?"
   ]
  },
  {
   "cell_type": "code",
   "execution_count": 22,
   "id": "36ff4870",
   "metadata": {
    "hidden": true,
    "id": "36ff4870"
   },
   "outputs": [
    {
     "data": {
      "text/plain": [
       "47621202"
      ]
     },
     "execution_count": 22,
     "metadata": {},
     "output_type": "execute_result"
    }
   ],
   "source": [
    "r10 = df1.loc[df1['id'] == r3,'host_id'].values[0]\n",
    "r10"
   ]
  },
  {
   "cell_type": "markdown",
   "id": "a67b88dc",
   "metadata": {
    "hidden": true,
    "id": "6765a27a"
   },
   "source": [
    "**host_id: 47621202**"
   ]
  },
  {
   "cell_type": "markdown",
   "id": "5fc653c0",
   "metadata": {
    "heading_collapsed": true,
    "id": "5fc653c0"
   },
   "source": [
    "##### 11. Qual é o `id` do host que possui o imóvel menos alugado na base de dados?"
   ]
  },
  {
   "cell_type": "code",
   "execution_count": 23,
   "id": "2b38822b",
   "metadata": {
    "hidden": true,
    "id": "a7ddf7de"
   },
   "outputs": [
    {
     "data": {
      "text/plain": [
       "2438"
      ]
     },
     "execution_count": 23,
     "metadata": {},
     "output_type": "execute_result"
    }
   ],
   "source": [
    "r11 = df1[df1['number_of_reviews'] == 1].sort_values(by='host_id', \n",
    "                                                     ascending=True).reset_index(drop=True).loc[0, 'host_id']\n",
    "r11"
   ]
  },
  {
   "cell_type": "markdown",
   "id": "aff33434",
   "metadata": {},
   "source": [
    "**host_id: 2438**"
   ]
  },
  {
   "cell_type": "markdown",
   "id": "4d4cadff",
   "metadata": {
    "heading_collapsed": true,
    "id": "4d4cadff"
   },
   "source": [
    "##### 12. Qual é o `id` do host que possui o imóvel com mais avaliações na base de dados?"
   ]
  },
  {
   "cell_type": "code",
   "execution_count": 24,
   "id": "486848f7",
   "metadata": {
    "hidden": true,
    "id": "486848f7"
   },
   "outputs": [
    {
     "data": {
      "text/plain": [
       "47621202"
      ]
     },
     "execution_count": 24,
     "metadata": {},
     "output_type": "execute_result"
    }
   ],
   "source": [
    "r12 = r10\n",
    "r12"
   ]
  },
  {
   "cell_type": "markdown",
   "id": "999ac4cf",
   "metadata": {},
   "source": [
    "**R: Host 47621202**"
   ]
  },
  {
   "cell_type": "markdown",
   "id": "abe48688",
   "metadata": {
    "heading_collapsed": true,
    "id": "abe48688"
   },
   "source": [
    "##### 13. Qual é o `id` do host que possui a maior quantidade de imóveis cadastrados na base de dados?"
   ]
  },
  {
   "cell_type": "code",
   "execution_count": 25,
   "id": "f9ac7151",
   "metadata": {
    "hidden": true,
    "id": "f9ac7151"
   },
   "outputs": [
    {
     "data": {
      "text/plain": [
       "219517861"
      ]
     },
     "execution_count": 25,
     "metadata": {},
     "output_type": "execute_result"
    }
   ],
   "source": [
    "r13 = df1[['id', 'host_id']].groupby('host_id').count().sort_values(by='id', \n",
    "                                                                    ascending=False).reset_index(drop=False).loc[0, 'host_id']\n",
    "r13"
   ]
  },
  {
   "cell_type": "markdown",
   "id": "7517ab24",
   "metadata": {
    "hidden": true,
    "id": "2bd4a498"
   },
   "source": [
    "**R: Host: 219517861** "
   ]
  },
  {
   "cell_type": "markdown",
   "id": "e3ba9d63",
   "metadata": {
    "heading_collapsed": true,
    "id": "e3ba9d63"
   },
   "source": [
    "##### 14. Qual o `id` do host que possui o imóvel com a última avaliação feita na base de dados?"
   ]
  },
  {
   "cell_type": "code",
   "execution_count": 26,
   "id": "ace788da",
   "metadata": {
    "hidden": true,
    "id": "ace788da",
    "scrolled": true
   },
   "outputs": [
    {
     "data": {
      "text/plain": [
       "149047"
      ]
     },
     "execution_count": 26,
     "metadata": {},
     "output_type": "execute_result"
    }
   ],
   "source": [
    "r14 = df1[df1['last_review'] == max_last_review].sort_values(by='host_id').reset_index(drop=True).loc[0, 'host_id']\n",
    "r14"
   ]
  },
  {
   "cell_type": "markdown",
   "id": "42536750",
   "metadata": {
    "hidden": true,
    "id": "17fe4b7c"
   },
   "source": [
    "**R: host_id: 149047**"
   ]
  },
  {
   "cell_type": "markdown",
   "id": "86c501b6",
   "metadata": {
    "heading_collapsed": true,
    "id": "86c501b6"
   },
   "source": [
    "##### 15. Qual o `id` do host que possui mais imóveis ativos dentro da base de dados?"
   ]
  },
  {
   "cell_type": "code",
   "execution_count": 27,
   "id": "026bff68",
   "metadata": {
    "hidden": true,
    "id": "026bff68"
   },
   "outputs": [
    {
     "data": {
      "text/plain": [
       "219517861"
      ]
     },
     "execution_count": 27,
     "metadata": {},
     "output_type": "execute_result"
    }
   ],
   "source": [
    "r15 = df1[['host_id', 'availability']].groupby('host_id').count().sort_values(by='availability',\n",
    "                                                                              ascending=False).reset_index().loc[0, 'host_id']\n",
    "r15"
   ]
  },
  {
   "cell_type": "markdown",
   "id": "fe034ef7",
   "metadata": {
    "hidden": true,
    "id": "d7bf0d1f"
   },
   "source": [
    "**host_id: 219517861**"
   ]
  },
  {
   "cell_type": "markdown",
   "id": "5a7b633d",
   "metadata": {
    "heading_collapsed": true,
    "id": "5a7b633d"
   },
   "source": [
    "##### 16. O host que possui mais imóveis é o host que também possui mais avaliações?"
   ]
  },
  {
   "cell_type": "code",
   "execution_count": 28,
   "id": "83d59afa",
   "metadata": {
    "hidden": true,
    "id": "83d59afa"
   },
   "outputs": [
    {
     "name": "stdout",
     "output_type": "stream",
     "text": [
      "Falso\n"
     ]
    }
   ],
   "source": [
    "if r12 == r13:\n",
    "    r16 = 'Verdadeiro'\n",
    "else:\n",
    "    r16 = 'Falso'\n",
    "\n",
    "print(r16)"
   ]
  },
  {
   "cell_type": "markdown",
   "id": "23ca76f0",
   "metadata": {
    "hidden": true,
    "id": "b85dd545"
   },
   "source": [
    "**Falso**"
   ]
  },
  {
   "cell_type": "markdown",
   "id": "0b5bfcb0",
   "metadata": {
    "heading_collapsed": true,
    "id": "0b5bfcb0"
   },
   "source": [
    "##### 17. Qual é a categoria que mais possui imóveis dentro da base de dados?"
   ]
  },
  {
   "cell_type": "code",
   "execution_count": 29,
   "id": "2d31c898",
   "metadata": {
    "hidden": true,
    "id": "2d31c898"
   },
   "outputs": [
    {
     "data": {
      "text/plain": [
       "'Entire home/apt'"
      ]
     },
     "execution_count": 29,
     "metadata": {},
     "output_type": "execute_result"
    }
   ],
   "source": [
    "r17 = df1[df1['availability'] == 1]\n",
    "r17 = r17[['id', 'room_type']].groupby('room_type').count().sort_values(by='id', \n",
    "                                                                        ascending=False).reset_index().loc[0, 'room_type']\n",
    "r17"
   ]
  },
  {
   "cell_type": "markdown",
   "id": "4388c5bd",
   "metadata": {
    "hidden": true,
    "id": "4c6d8f96"
   },
   "source": [
    "**Entire home/apt**"
   ]
  },
  {
   "cell_type": "markdown",
   "id": "bb3d35c7",
   "metadata": {
    "heading_collapsed": true,
    "id": "bb3d35c7"
   },
   "source": [
    "##### 18. Qual é a categoria que menos possui imóveis dentro da base de dados?"
   ]
  },
  {
   "cell_type": "code",
   "execution_count": 30,
   "id": "0673c36a",
   "metadata": {
    "hidden": true,
    "id": "0673c36a"
   },
   "outputs": [
    {
     "data": {
      "text/plain": [
       "'Shared room'"
      ]
     },
     "execution_count": 30,
     "metadata": {},
     "output_type": "execute_result"
    }
   ],
   "source": [
    "r18 = df1[df1['availability'] == 1]\n",
    "r18 = r18[['id', 'room_type']].groupby('room_type').count().sort_values(by='id').reset_index().loc[0, 'room_type']\n",
    "r18"
   ]
  },
  {
   "cell_type": "markdown",
   "id": "0b2f3bd0",
   "metadata": {
    "hidden": true,
    "id": "7fd95956"
   },
   "source": [
    "**Shared room**"
   ]
  },
  {
   "cell_type": "markdown",
   "id": "4cef54f9",
   "metadata": {
    "heading_collapsed": true,
    "id": "4cef54f9"
   },
   "source": [
    "##### 19. A região de `Manhattan` é a região que mais possui imóveis ativos para locação, da categoria `Private room`?"
   ]
  },
  {
   "cell_type": "code",
   "execution_count": 31,
   "id": "b2484524",
   "metadata": {
    "hidden": true,
    "id": "b2484524"
   },
   "outputs": [
    {
     "data": {
      "text/plain": [
       "'Falso'"
      ]
     },
     "execution_count": 31,
     "metadata": {},
     "output_type": "execute_result"
    }
   ],
   "source": [
    "r19 = df1[(df1['room_type'] == 'Private room') & (df1['availability'] == 1)]\n",
    "\n",
    "resposta = r19[['id', 'neighbourhood_group']].groupby('neighbourhood_group').count().sort_values(by='id', ascending=False).reset_index().loc[0, 'neighbourhood_group']\n",
    "\n",
    "if resposta == 'Manhattan':\n",
    "    r19 = 'Verdadeiro'\n",
    "else:\n",
    "    r19 = 'Falso'\n",
    "    \n",
    "r19"
   ]
  },
  {
   "cell_type": "markdown",
   "id": "f432ccde",
   "metadata": {
    "hidden": true,
    "id": "73500c83"
   },
   "source": [
    "**Falso**"
   ]
  },
  {
   "cell_type": "markdown",
   "id": "4924658e",
   "metadata": {
    "id": "4924658e"
   },
   "source": [
    "##### 20. Qual a categoria de imóvel que possui a maior média de tempo de disponibilidade para serem locados da região do `Bronx`? Considere somente imóveis ativos"
   ]
  },
  {
   "cell_type": "code",
   "execution_count": 32,
   "id": "2d092a4d",
   "metadata": {
    "id": "2d092a4d"
   },
   "outputs": [
    {
     "data": {
      "text/plain": [
       "'Shared room'"
      ]
     },
     "execution_count": 32,
     "metadata": {},
     "output_type": "execute_result"
    }
   ],
   "source": [
    "r20 = df1[(df1['neighbourhood_group'] == 'Bronx') & (df1['availability'] == 1)]\n",
    "r20 = r20[['room_type', 'days_since_last_review']].groupby('room_type').mean().sort_values(by='days_since_last_review', ascending=False)\n",
    "r20 = r20.reset_index().loc[0, 'room_type']\n",
    "r20"
   ]
  },
  {
   "cell_type": "markdown",
   "id": "f0a2685e",
   "metadata": {
    "id": "4434b42d"
   },
   "source": [
    "**Shared room**"
   ]
  },
  {
   "cell_type": "markdown",
   "id": "83b23931",
   "metadata": {
    "id": "83b23931"
   },
   "source": [
    "##### 21. Qual a categoria de imóvel ativo que possui o maior valor de aluguel (diária) na região de `Manhattan`?"
   ]
  },
  {
   "cell_type": "code",
   "execution_count": 33,
   "id": "ae557a31",
   "metadata": {
    "id": "ae557a31"
   },
   "outputs": [
    {
     "data": {
      "text/html": [
       "<div>\n",
       "<style scoped>\n",
       "    .dataframe tbody tr th:only-of-type {\n",
       "        vertical-align: middle;\n",
       "    }\n",
       "\n",
       "    .dataframe tbody tr th {\n",
       "        vertical-align: top;\n",
       "    }\n",
       "\n",
       "    .dataframe thead th {\n",
       "        text-align: right;\n",
       "    }\n",
       "</style>\n",
       "<table border=\"1\" class=\"dataframe\">\n",
       "  <thead>\n",
       "    <tr style=\"text-align: right;\">\n",
       "      <th></th>\n",
       "      <th>price</th>\n",
       "    </tr>\n",
       "    <tr>\n",
       "      <th>room_type</th>\n",
       "      <th></th>\n",
       "    </tr>\n",
       "  </thead>\n",
       "  <tbody>\n",
       "    <tr>\n",
       "      <th>Entire home/apt</th>\n",
       "      <td>269.59</td>\n",
       "    </tr>\n",
       "    <tr>\n",
       "      <th>Private room</th>\n",
       "      <td>128.44</td>\n",
       "    </tr>\n",
       "    <tr>\n",
       "      <th>Shared room</th>\n",
       "      <td>84.72</td>\n",
       "    </tr>\n",
       "  </tbody>\n",
       "</table>\n",
       "</div>"
      ],
      "text/plain": [
       "                 price\n",
       "room_type             \n",
       "Entire home/apt 269.59\n",
       "Private room    128.44\n",
       "Shared room      84.72"
      ]
     },
     "execution_count": 33,
     "metadata": {},
     "output_type": "execute_result"
    }
   ],
   "source": [
    "r21 = df1[(df1['neighbourhood_group'] == 'Manhattan') & (df1['availability'] == 1)]\n",
    "r21[['price', 'room_type']].groupby('room_type').mean().sort_values(by='price', ascending=False)"
   ]
  },
  {
   "cell_type": "markdown",
   "id": "2f776e18",
   "metadata": {
    "heading_collapsed": true,
    "id": "2f776e18"
   },
   "source": [
    "##### 22. A categoria de imóvel “Private Room“ é a categoria que fica mais tempo disponível para locação?"
   ]
  },
  {
   "cell_type": "code",
   "execution_count": 34,
   "id": "2258a825",
   "metadata": {
    "hidden": true,
    "id": "2258a825"
   },
   "outputs": [
    {
     "data": {
      "text/plain": [
       "'Falso'"
      ]
     },
     "execution_count": 34,
     "metadata": {},
     "output_type": "execute_result"
    }
   ],
   "source": [
    "resposta = df1[['room_type', 'days_since_last_review']].groupby('room_type').mean().sort_values(by='days_since_last_review', ascending=False)\n",
    "resposta = resposta.reset_index().loc[0, 'room_type']\n",
    "\n",
    "if resposta == 'Private room':\n",
    "    r22 = 'Verdadeiro'\n",
    "else:\n",
    "    r22 = 'Falso'\n",
    "\n",
    "r22"
   ]
  },
  {
   "cell_type": "markdown",
   "id": "bc3f1651",
   "metadata": {
    "hidden": true,
    "id": "272ab7f0"
   },
   "source": [
    "**Falso**"
   ]
  },
  {
   "cell_type": "markdown",
   "id": "724d3c82",
   "metadata": {
    "heading_collapsed": true,
    "id": "724d3c82"
   },
   "source": [
    "##### 23. Qual a categoria de imóvel que fica mais tempo disponível, na média, para locação?"
   ]
  },
  {
   "cell_type": "code",
   "execution_count": 35,
   "id": "80255f7f",
   "metadata": {
    "hidden": true,
    "id": "80255f7f"
   },
   "outputs": [
    {
     "data": {
      "text/plain": [
       "'Entire home/apt'"
      ]
     },
     "execution_count": 35,
     "metadata": {},
     "output_type": "execute_result"
    }
   ],
   "source": [
    "r23 = df1[['room_type', 'days_since_last_review']].groupby('room_type').mean().sort_values(by='days_since_last_review', ascending=False)\n",
    "r23 = r23.reset_index().loc[0, 'room_type']\n",
    "r23"
   ]
  },
  {
   "cell_type": "markdown",
   "id": "dc401f49",
   "metadata": {
    "hidden": true,
    "id": "13b47189"
   },
   "source": [
    "**Entire home/apt**"
   ]
  },
  {
   "cell_type": "markdown",
   "id": "3205c88c",
   "metadata": {
    "heading_collapsed": true,
    "id": "3205c88c"
   },
   "source": [
    "##### 24. A categoria de imóvel que fica menos tempo disponível, na média, para locação é a categoria que possuí, em média, o menor aluguel (diária)?"
   ]
  },
  {
   "cell_type": "code",
   "execution_count": 36,
   "id": "a6b19656",
   "metadata": {
    "hidden": true,
    "id": "a6b19656"
   },
   "outputs": [
    {
     "data": {
      "text/plain": [
       "'Verdadeiro'"
      ]
     },
     "execution_count": 36,
     "metadata": {},
     "output_type": "execute_result"
    }
   ],
   "source": [
    "menos_tempo_disp = df1[['room_type', 'days_since_last_review']].groupby('room_type').mean().sort_values(by='days_since_last_review').reset_index().loc[0, 'room_type']\n",
    "\n",
    "menor_aluguel = df1[['price', 'room_type']].groupby('room_type').mean().sort_values(by='price').reset_index().loc[0, 'room_type']\n",
    "\n",
    "if menos_tempo_disp == menor_aluguel:\n",
    "    r24 = 'Verdadeiro'\n",
    "else:\n",
    "    r24 = 'Falso'\n",
    "\n",
    "r24"
   ]
  },
  {
   "cell_type": "markdown",
   "id": "c01fa418",
   "metadata": {
    "hidden": true,
    "id": "bef91c37"
   },
   "source": [
    "**Verdadeiro**"
   ]
  },
  {
   "cell_type": "markdown",
   "id": "6a8fa8e3",
   "metadata": {
    "heading_collapsed": true,
    "id": "6a8fa8e3"
   },
   "source": [
    "##### 25. A categoria de imóvel `Entire home/apt` é a categoria que possui, na média, o maior valor de aluguel?"
   ]
  },
  {
   "cell_type": "code",
   "execution_count": 37,
   "id": "c2180ebb",
   "metadata": {
    "hidden": true,
    "id": "c2180ebb"
   },
   "outputs": [
    {
     "data": {
      "text/plain": [
       "'Verdadeiro'"
      ]
     },
     "execution_count": 37,
     "metadata": {},
     "output_type": "execute_result"
    }
   ],
   "source": [
    "resposta = df1[['price', 'room_type']].groupby('room_type').mean().sort_values(by='room_type', ascending=True).reset_index().loc[0, 'room_type']\n",
    "\n",
    "if resposta == 'Entire home/apt':\n",
    "    r25 = 'Verdadeiro'\n",
    "else:\n",
    "    r25 = 'Falso'\n",
    "    \n",
    "r25"
   ]
  },
  {
   "cell_type": "markdown",
   "id": "fa0bfa31",
   "metadata": {
    "hidden": true,
    "id": "3cd41269"
   },
   "source": [
    "**Verdadeiro**"
   ]
  },
  {
   "cell_type": "markdown",
   "id": "5bbe1d09",
   "metadata": {
    "heading_collapsed": true,
    "id": "5bbe1d09"
   },
   "source": [
    "##### 26. A categoria de imóvel `Entire home/apt` é a categoria que possui, na média, menos locações?"
   ]
  },
  {
   "cell_type": "code",
   "execution_count": 38,
   "id": "d106fb88",
   "metadata": {
    "hidden": true,
    "id": "d106fb88"
   },
   "outputs": [
    {
     "data": {
      "text/plain": [
       "'Falso'"
      ]
     },
     "execution_count": 38,
     "metadata": {},
     "output_type": "execute_result"
    }
   ],
   "source": [
    "resposta = df1[['room_type', 'number_of_reviews']].groupby('room_type').mean().sort_values(by='room_type', ascending=False).reset_index().loc[0, 'room_type']\n",
    "\n",
    "if resposta == 'Entire home/apt':\n",
    "    r26 = 'Verdadeiro'\n",
    "else:\n",
    "    r26 = 'Falso'\n",
    "    \n",
    "r26"
   ]
  },
  {
   "cell_type": "markdown",
   "id": "f6810fb2",
   "metadata": {
    "hidden": true,
    "id": "0c7ed703"
   },
   "source": [
    "**Verdadeiro**"
   ]
  },
  {
   "cell_type": "markdown",
   "id": "436ac841",
   "metadata": {
    "heading_collapsed": true,
    "id": "436ac841"
   },
   "source": [
    "##### 27. A categoria de imóvel `Private Room` na região de Manhattan, na média, é a categoria que possui o menor valor de locação, comparado as outras categorias na mesma região? "
   ]
  },
  {
   "cell_type": "code",
   "execution_count": 39,
   "id": "0ce74590",
   "metadata": {
    "hidden": true,
    "id": "0ce74590"
   },
   "outputs": [
    {
     "data": {
      "text/plain": [
       "'Falso'"
      ]
     },
     "execution_count": 39,
     "metadata": {},
     "output_type": "execute_result"
    }
   ],
   "source": [
    "resposta = df1[df1['neighbourhood_group'] == 'Manhattan']\n",
    "\n",
    "resposta = resposta[['price', 'room_type']].groupby('room_type').mean().sort_values(by='price').reset_index().loc[0, 'room_type']\n",
    "\n",
    "if resposta == 'Private room':\n",
    "    r27 = 'Verdadeiro'\n",
    "else:\n",
    "    r27 = 'Falso'\n",
    "    \n",
    "r27"
   ]
  },
  {
   "cell_type": "markdown",
   "id": "485ea8cd",
   "metadata": {
    "hidden": true,
    "id": "dfd33ef9"
   },
   "source": [
    "**Falso**"
   ]
  },
  {
   "cell_type": "markdown",
   "id": "774378e7",
   "metadata": {
    "heading_collapsed": true,
    "id": "774378e7"
   },
   "source": [
    "##### 28. Qual a região que possui a maior quantidade de imóveis?"
   ]
  },
  {
   "cell_type": "code",
   "execution_count": 40,
   "id": "94a14082",
   "metadata": {
    "hidden": true,
    "id": "94a14082"
   },
   "outputs": [
    {
     "data": {
      "text/plain": [
       "'Manhattan'"
      ]
     },
     "execution_count": 40,
     "metadata": {},
     "output_type": "execute_result"
    }
   ],
   "source": [
    "r28 = df1[['id', 'neighbourhood_group']].groupby('neighbourhood_group').count().sort_values(by='id', ascending=False).reset_index().loc[0, 'neighbourhood_group']\n",
    "r28"
   ]
  },
  {
   "cell_type": "markdown",
   "id": "0852e58b",
   "metadata": {
    "hidden": true,
    "id": "27102299"
   },
   "source": [
    "**Manhattan**"
   ]
  },
  {
   "cell_type": "markdown",
   "id": "53abcb8d",
   "metadata": {
    "heading_collapsed": true,
    "id": "53abcb8d"
   },
   "source": [
    "##### 29. Qual a região que possui a menor quantidade de imóveis?"
   ]
  },
  {
   "cell_type": "code",
   "execution_count": 41,
   "id": "db39c923",
   "metadata": {
    "hidden": true,
    "id": "db39c923"
   },
   "outputs": [
    {
     "data": {
      "text/plain": [
       "'Staten Island'"
      ]
     },
     "execution_count": 41,
     "metadata": {},
     "output_type": "execute_result"
    }
   ],
   "source": [
    "r28 = df1[['id', 'neighbourhood_group']].groupby('neighbourhood_group').count().sort_values(by='id').reset_index().loc[0, 'neighbourhood_group']\n",
    "r28"
   ]
  },
  {
   "cell_type": "markdown",
   "id": "a9e428ef",
   "metadata": {
    "hidden": true,
    "id": "5421a345"
   },
   "source": [
    "**Staten Island**"
   ]
  },
  {
   "cell_type": "markdown",
   "id": "c1ef0c73",
   "metadata": {
    "heading_collapsed": true,
    "id": "c1ef0c73"
   },
   "source": [
    "##### 30. A região que possui a maior quantidade de imóveis é também a região que possui os imóveis mais locados?"
   ]
  },
  {
   "cell_type": "code",
   "execution_count": 42,
   "id": "8e80f4a1",
   "metadata": {
    "hidden": true,
    "id": "8e80f4a1"
   },
   "outputs": [
    {
     "data": {
      "text/plain": [
       "'Falso'"
      ]
     },
     "execution_count": 42,
     "metadata": {},
     "output_type": "execute_result"
    }
   ],
   "source": [
    "mais_imoveis = r28\n",
    "\n",
    "mais_locados = df1[['neighbourhood_group', 'number_of_reviews']].groupby('neighbourhood_group').sum().sort_values(by='number_of_reviews', ascending=False).reset_index().loc[0, 'neighbourhood_group']\n",
    "\n",
    "if mais_imoveis == mais_locados:\n",
    "    r30 = 'Verdadeiro'\n",
    "else:\n",
    "    r30 = 'Falso'\n",
    "    \n",
    "r30"
   ]
  },
  {
   "cell_type": "markdown",
   "id": "28325370",
   "metadata": {
    "hidden": true,
    "id": "3bbe277c"
   },
   "source": [
    "**Falso**"
   ]
  },
  {
   "cell_type": "markdown",
   "id": "80f47100",
   "metadata": {
    "heading_collapsed": true,
    "id": "80f47100"
   },
   "source": [
    "##### 31. Qual a região que possui a menor quantidade de imóveis locados dentro da base de dados?"
   ]
  },
  {
   "cell_type": "code",
   "execution_count": 43,
   "id": "943586e9",
   "metadata": {
    "hidden": true,
    "id": "943586e9"
   },
   "outputs": [
    {
     "data": {
      "text/plain": [
       "'Staten Island'"
      ]
     },
     "execution_count": 43,
     "metadata": {},
     "output_type": "execute_result"
    }
   ],
   "source": [
    "r31 = df1[['neighbourhood_group', 'number_of_reviews']].groupby('neighbourhood_group').sum().sort_values(by='number_of_reviews').reset_index().loc[0, 'neighbourhood_group']\n",
    "r31"
   ]
  },
  {
   "cell_type": "markdown",
   "id": "2ec85a97",
   "metadata": {},
   "source": [
    "**Staten Island**"
   ]
  },
  {
   "cell_type": "markdown",
   "id": "23e9f409",
   "metadata": {
    "heading_collapsed": true,
    "id": "23e9f409"
   },
   "source": [
    "##### 32. A região de `Manhattan` é a região que possui, na média, os maiores aluguéis (diárias) dentro da base de dados?"
   ]
  },
  {
   "cell_type": "code",
   "execution_count": 44,
   "id": "edf07278",
   "metadata": {
    "hidden": true,
    "id": "edf07278"
   },
   "outputs": [
    {
     "data": {
      "text/plain": [
       "'Verdadeiro'"
      ]
     },
     "execution_count": 44,
     "metadata": {},
     "output_type": "execute_result"
    }
   ],
   "source": [
    "resposta = df1[['neighbourhood_group', 'price']].groupby('neighbourhood_group').mean().sort_values(by='price', ascending=False).reset_index().loc[0, 'neighbourhood_group']\n",
    "\n",
    "if resposta == 'Manhattan':\n",
    "    r32 = 'Verdadeiro'\n",
    "else:\n",
    "    r32 = 'Falso'\n",
    "    \n",
    "r32"
   ]
  },
  {
   "cell_type": "markdown",
   "id": "32565f46",
   "metadata": {
    "hidden": true,
    "id": "dd61bc4f"
   },
   "source": [
    "**Verdadeiro**"
   ]
  },
  {
   "cell_type": "markdown",
   "id": "6fa1634a",
   "metadata": {
    "id": "6fa1634a"
   },
   "source": [
    "##### 33. A região de `Queens` é a região que possui, na média, os menores aluguéis (diárias) dentro da base de dados?"
   ]
  },
  {
   "cell_type": "code",
   "execution_count": 45,
   "id": "1e6c313e",
   "metadata": {
    "id": "1e6c313e"
   },
   "outputs": [
    {
     "data": {
      "text/plain": [
       "'Falso'"
      ]
     },
     "execution_count": 45,
     "metadata": {},
     "output_type": "execute_result"
    }
   ],
   "source": [
    "resposta = df1[['neighbourhood_group', 'price']].groupby('neighbourhood_group').mean().sort_values(by='price').reset_index().loc[0, 'neighbourhood_group']\n",
    "\n",
    "if resposta == 'Queens':\n",
    "    r33 = 'Verdadeiro'\n",
    "else:\n",
    "    r33 = 'Falso'\n",
    "    \n",
    "r33"
   ]
  },
  {
   "cell_type": "markdown",
   "id": "c8b685e3",
   "metadata": {
    "id": "c9ce2f28"
   },
   "source": [
    "**Falso**"
   ]
  },
  {
   "cell_type": "markdown",
   "id": "071bf3fb",
   "metadata": {
    "heading_collapsed": true,
    "id": "071bf3fb"
   },
   "source": [
    "##### 34. Qual a região que possui, na média, os imóveis com os menores aluguéis dentro da base de dados?"
   ]
  },
  {
   "cell_type": "code",
   "execution_count": 46,
   "id": "ab307750",
   "metadata": {
    "hidden": true,
    "id": "ab307750"
   },
   "outputs": [
    {
     "data": {
      "text/plain": [
       "'Bronx'"
      ]
     },
     "execution_count": 46,
     "metadata": {},
     "output_type": "execute_result"
    }
   ],
   "source": [
    "r34 = df1[['neighbourhood_group', 'price']].groupby('neighbourhood_group').mean().sort_values(by='price').reset_index().loc[0, 'neighbourhood_group']\n",
    "r34"
   ]
  },
  {
   "cell_type": "markdown",
   "id": "595b6aa0",
   "metadata": {
    "hidden": true,
    "id": "63542283"
   },
   "source": [
    "**Bronx**"
   ]
  },
  {
   "cell_type": "markdown",
   "id": "3118d788",
   "metadata": {
    "heading_collapsed": true,
    "id": "3118d788"
   },
   "source": [
    "##### 35. Qual a região que possui os imóveis que ficam, na média, menos tempo disponíveis para aluguel? Ou seja, são alugados mais rápidos na média?"
   ]
  },
  {
   "cell_type": "code",
   "execution_count": 52,
   "id": "bd42c9c4",
   "metadata": {
    "hidden": true,
    "id": "bd42c9c4"
   },
   "outputs": [
    {
     "data": {
      "text/plain": [
       "'Staten Island'"
      ]
     },
     "execution_count": 52,
     "metadata": {},
     "output_type": "execute_result"
    }
   ],
   "source": [
    "r35 = df1[['neighbourhood_group', 'days_since_last_review']].groupby('neighbourhood_group').mean().sort_values(by='days_since_last_review').reset_index().loc[0, 'neighbourhood_group']\n",
    "r35"
   ]
  },
  {
   "cell_type": "markdown",
   "id": "73101e21",
   "metadata": {},
   "source": [
    "**Staten Island**"
   ]
  },
  {
   "cell_type": "markdown",
   "id": "adf0b8d5",
   "metadata": {},
   "source": [
    "##### 36. Qual o bairro possui a maior quantidade de imóveis ativos para locação?"
   ]
  },
  {
   "cell_type": "code",
   "execution_count": 61,
   "id": "dea77690",
   "metadata": {},
   "outputs": [
    {
     "data": {
      "text/plain": [
       "'Bedford-Stuyvesant'"
      ]
     },
     "execution_count": 61,
     "metadata": {},
     "output_type": "execute_result"
    }
   ],
   "source": [
    "r36 = df1[df1['availability'] == 1]\n",
    "r36 = r36[['id', 'neighbourhood']].groupby('neighbourhood').count().sort_values(by='id', ascending=False).reset_index().loc[0, 'neighbourhood']\n",
    "r36"
   ]
  },
  {
   "cell_type": "markdown",
   "id": "2f346ed9",
   "metadata": {},
   "source": [
    "**Bedford-Stuyvesant**"
   ]
  },
  {
   "cell_type": "markdown",
   "id": "29843794",
   "metadata": {
    "heading_collapsed": true,
    "id": "29843794"
   },
   "source": [
    "##### 37. Qual o bairro possui a menor quantidade de imóveis ativos para locação?"
   ]
  },
  {
   "cell_type": "code",
   "execution_count": 63,
   "id": "a4806389",
   "metadata": {
    "hidden": true,
    "id": "a4806389"
   },
   "outputs": [
    {
     "data": {
      "text/plain": [
       "'Silver Lake'"
      ]
     },
     "execution_count": 63,
     "metadata": {},
     "output_type": "execute_result"
    }
   ],
   "source": [
    "r37 = df1[df1['availability'] == 1]\n",
    "r37 = r37[['id', 'neighbourhood']].groupby('neighbourhood').count().sort_values(by='id').reset_index().loc[0, 'neighbourhood']\n",
    "r37"
   ]
  },
  {
   "cell_type": "markdown",
   "id": "a1ac91d4",
   "metadata": {
    "hidden": true,
    "id": "694284ca"
   },
   "source": [
    "**Silver Lake**"
   ]
  },
  {
   "cell_type": "markdown",
   "id": "78c54d15",
   "metadata": {
    "heading_collapsed": true,
    "id": "78c54d15"
   },
   "source": [
    "##### 38. Qual bairro está o imóvel com o maior valor de aluguel?"
   ]
  },
  {
   "cell_type": "code",
   "execution_count": 70,
   "id": "0d67fdbb",
   "metadata": {
    "hidden": true,
    "id": "0d67fdbb"
   },
   "outputs": [
    {
     "data": {
      "text/plain": [
       "'Astoria'"
      ]
     },
     "execution_count": 70,
     "metadata": {},
     "output_type": "execute_result"
    }
   ],
   "source": [
    "r38 = df1[df1['id'] == r1].loc[:, 'neighbourhood'].values[0]\n",
    "r38"
   ]
  },
  {
   "cell_type": "markdown",
   "id": "2c41c902",
   "metadata": {
    "hidden": true,
    "id": "0d853f9b"
   },
   "source": [
    "**Astoria**"
   ]
  },
  {
   "cell_type": "markdown",
   "id": "4545de9f",
   "metadata": {
    "heading_collapsed": true,
    "id": "4545de9f"
   },
   "source": [
    "##### 39. Qual bairro está o imóvel com o menor valor de aluguel?"
   ]
  },
  {
   "cell_type": "code",
   "execution_count": 72,
   "id": "edbe00bb",
   "metadata": {
    "hidden": true,
    "id": "edbe00bb"
   },
   "outputs": [
    {
     "data": {
      "text/plain": [
       "'East Village'"
      ]
     },
     "execution_count": 72,
     "metadata": {},
     "output_type": "execute_result"
    }
   ],
   "source": [
    "r39 = df1[df1['id'] == r2].loc[:, 'neighbourhood'].values[0]\n",
    "r39"
   ]
  },
  {
   "cell_type": "markdown",
   "id": "802b5e15",
   "metadata": {
    "hidden": true,
    "id": "07123cb3"
   },
   "source": [
    "**East Village**"
   ]
  },
  {
   "cell_type": "markdown",
   "id": "5d79d6fe",
   "metadata": {
    "id": "5d79d6fe"
   },
   "source": [
    "##### 40. Qual região que possui o bairro com mais imóveis ativos disponíveis para locação?"
   ]
  },
  {
   "cell_type": "code",
   "execution_count": 91,
   "id": "77c21abc",
   "metadata": {
    "id": "77c21abc",
    "scrolled": true
   },
   "outputs": [
    {
     "data": {
      "text/plain": [
       "'Brooklyn'"
      ]
     },
     "execution_count": 91,
     "metadata": {},
     "output_type": "execute_result"
    }
   ],
   "source": [
    "r40 = df1[df1['availability'] == 1]\n",
    "r40 = pd.DataFrame(r40[['id', 'neighbourhood_group', 'neighbourhood']].groupby(['neighbourhood', 'neighbourhood_group']).count().sort_values(by='id', ascending=False).reset_index().loc[0, :]).T\n",
    "r40 = r40.loc[0, 'neighbourhood_group']\n",
    "r40"
   ]
  },
  {
   "cell_type": "markdown",
   "id": "df76f54b",
   "metadata": {
    "id": "40395a0a"
   },
   "source": [
    "**Brooklyn**"
   ]
  },
  {
   "cell_type": "markdown",
   "id": "2316bf28",
   "metadata": {
    "id": "2316bf28"
   },
   "source": [
    "##### 41. Qual região que possui o bairro com menos imóveis ativos disponíveis para locação?"
   ]
  },
  {
   "cell_type": "code",
   "execution_count": 94,
   "id": "d48111a6",
   "metadata": {
    "id": "d48111a6"
   },
   "outputs": [
    {
     "data": {
      "text/plain": [
       "'Staten Island'"
      ]
     },
     "execution_count": 94,
     "metadata": {},
     "output_type": "execute_result"
    }
   ],
   "source": [
    "r41 = df1[df1['availability'] == 1]\n",
    "r41 = pd.DataFrame(r41[['id', 'neighbourhood_group', 'neighbourhood']].groupby(['neighbourhood', 'neighbourhood_group']).count().sort_values(by='id').reset_index().loc[0, :]).T\n",
    "r41 = r41.loc[0, 'neighbourhood_group']\n",
    "r41"
   ]
  },
  {
   "cell_type": "markdown",
   "id": "accd005c",
   "metadata": {
    "id": "cf34de94"
   },
   "source": [
    "**Staten Island**"
   ]
  },
  {
   "cell_type": "markdown",
   "id": "b405c226",
   "metadata": {
    "heading_collapsed": true,
    "id": "b405c226"
   },
   "source": [
    "##### 42. O Bairro `Upper West Side`, na região de `Manhattan`, é o bairro que possui, na média, o maior aluguel dentro da base de dados?"
   ]
  },
  {
   "cell_type": "code",
   "execution_count": null,
   "id": "37cb349b",
   "metadata": {
    "hidden": true,
    "id": "37cb349b"
   },
   "outputs": [],
   "source": []
  },
  {
   "cell_type": "code",
   "execution_count": null,
   "id": "0fc2627f",
   "metadata": {
    "hidden": true,
    "id": "0fc2627f"
   },
   "outputs": [],
   "source": []
  },
  {
   "cell_type": "code",
   "execution_count": null,
   "id": "90a7d671",
   "metadata": {
    "hidden": true,
    "id": "90a7d671"
   },
   "outputs": [],
   "source": []
  },
  {
   "cell_type": "markdown",
   "id": "4aee0885",
   "metadata": {
    "id": "4aee0885"
   },
   "source": [
    "##### 43. Qual é o bairro que possui, na média, o aluguel mais caro da base de dados?"
   ]
  },
  {
   "cell_type": "code",
   "execution_count": null,
   "id": "702c77d8",
   "metadata": {
    "id": "702c77d8"
   },
   "outputs": [],
   "source": []
  },
  {
   "cell_type": "code",
   "execution_count": null,
   "id": "45b78a4f",
   "metadata": {
    "id": "45b78a4f"
   },
   "outputs": [],
   "source": []
  },
  {
   "cell_type": "code",
   "execution_count": null,
   "id": "98f5c646",
   "metadata": {
    "id": "98f5c646"
   },
   "outputs": [],
   "source": []
  },
  {
   "cell_type": "markdown",
   "id": "dc31583f",
   "metadata": {
    "id": "dc31583f"
   },
   "source": [
    "##### 44. Qual o `id` do imóvel que possui a melhor rentabilidade da base de dados? Levando em consideração o aluguel mais caro e imóvel mais rápido de alugar?  Utilize somente os imóveis que estejam ativos e que possuam pelo menos uma avaliação."
   ]
  },
  {
   "cell_type": "markdown",
   "id": "bc32d31c",
   "metadata": {
    "id": "bc32d31c"
   },
   "source": [
    "Utilize a seguinte fórmula para verificar qual o melhor imóvel:\n",
    "\n",
    "$$ rentability = \\frac{price * (minimoum\\_nights + 1) * number\\_of\\_reviews}{\\sqrt{availability\\_365}} $$"
   ]
  },
  {
   "cell_type": "code",
   "execution_count": null,
   "id": "3782762f",
   "metadata": {
    "id": "3782762f"
   },
   "outputs": [],
   "source": []
  },
  {
   "cell_type": "code",
   "execution_count": null,
   "id": "00683e02",
   "metadata": {
    "id": "00683e02"
   },
   "outputs": [],
   "source": []
  },
  {
   "cell_type": "code",
   "execution_count": null,
   "id": "a6b24926",
   "metadata": {
    "id": "a6b24926"
   },
   "outputs": [],
   "source": []
  },
  {
   "cell_type": "markdown",
   "id": "d6841ab4",
   "metadata": {
    "id": "d6841ab4"
   },
   "source": [
    "##### 45. Qual a região em que fica o melhor bairro para se adquirir um imóvel, visando a melhor rentabilidade média? Utilize como métrica o índice criado na questão anterior."
   ]
  },
  {
   "cell_type": "code",
   "execution_count": null,
   "id": "6aedbabe",
   "metadata": {
    "id": "6aedbabe"
   },
   "outputs": [],
   "source": []
  },
  {
   "cell_type": "code",
   "execution_count": null,
   "id": "64374ea1",
   "metadata": {
    "id": "64374ea1"
   },
   "outputs": [],
   "source": []
  },
  {
   "cell_type": "code",
   "execution_count": null,
   "id": "c8bc6b0f",
   "metadata": {
    "id": "c8bc6b0f"
   },
   "outputs": [],
   "source": []
  },
  {
   "cell_type": "markdown",
   "id": "08c9638f",
   "metadata": {
    "id": "08c9638f"
   },
   "source": [
    "##### 46. Qual a região em que fica o pior bairro para se adquirir um imóvel, visando a melhor rentabilidade média? Utilize como métrica o índice criado na questão 44."
   ]
  },
  {
   "cell_type": "code",
   "execution_count": null,
   "id": "0e3bece8",
   "metadata": {
    "id": "0e3bece8"
   },
   "outputs": [],
   "source": []
  },
  {
   "cell_type": "code",
   "execution_count": null,
   "id": "90d322e9",
   "metadata": {
    "id": "90d322e9"
   },
   "outputs": [],
   "source": []
  },
  {
   "cell_type": "code",
   "execution_count": null,
   "id": "89c1bf1b",
   "metadata": {
    "id": "89c1bf1b"
   },
   "outputs": [],
   "source": []
  },
  {
   "cell_type": "markdown",
   "id": "85146a48",
   "metadata": {
    "id": "85146a48"
   },
   "source": [
    "##### 47. Levando em conta o bairro encontrado na questão anterior, verifique qual é o `id` do imóvel ativo que possui a pior rentabilidade desse bairro"
   ]
  },
  {
   "cell_type": "code",
   "execution_count": null,
   "id": "43678a96",
   "metadata": {
    "id": "43678a96"
   },
   "outputs": [],
   "source": []
  },
  {
   "cell_type": "code",
   "execution_count": null,
   "id": "26019273",
   "metadata": {
    "id": "26019273"
   },
   "outputs": [],
   "source": []
  },
  {
   "cell_type": "code",
   "execution_count": null,
   "id": "b5285184",
   "metadata": {
    "id": "b5285184"
   },
   "outputs": [],
   "source": []
  },
  {
   "cell_type": "markdown",
   "id": "39ef122b",
   "metadata": {
    "id": "39ef122b"
   },
   "source": [
    "##### 48. Levando em conta o bairro da questão 45, verifique qual o `id` do imóvel ativo que possui a melhor rentabilidade desse bairro"
   ]
  },
  {
   "cell_type": "code",
   "execution_count": null,
   "id": "7ddc79a5",
   "metadata": {
    "id": "7ddc79a5"
   },
   "outputs": [],
   "source": []
  },
  {
   "cell_type": "code",
   "execution_count": null,
   "id": "b72fd78a",
   "metadata": {
    "id": "b72fd78a"
   },
   "outputs": [],
   "source": []
  },
  {
   "cell_type": "code",
   "execution_count": null,
   "id": "098b212c",
   "metadata": {
    "id": "098b212c"
   },
   "outputs": [],
   "source": []
  },
  {
   "cell_type": "markdown",
   "id": "d53b8d9f",
   "metadata": {
    "id": "d53b8d9f"
   },
   "source": [
    "##### 49. Caso eu, investidor, compre o imóvel da questão anterior com um investimento de U\\$ 1.000.000,00, quantas vezes eu teria que locá-lo para ter o retorno do investimento feito? Utilize a fórmula abaixo para calcular o tempo de retorno do investimento"
   ]
  },
  {
   "cell_type": "markdown",
   "id": "d3fb69b5",
   "metadata": {
    "id": "d3fb69b5"
   },
   "source": [
    "$$ return\\_investment = \\frac{investment}{price * (minimum\\_nights + 1)} $$"
   ]
  },
  {
   "cell_type": "code",
   "execution_count": null,
   "id": "0dcac6c1",
   "metadata": {
    "id": "0dcac6c1"
   },
   "outputs": [],
   "source": []
  },
  {
   "cell_type": "code",
   "execution_count": null,
   "id": "852d88db",
   "metadata": {
    "id": "852d88db"
   },
   "outputs": [],
   "source": []
  },
  {
   "cell_type": "code",
   "execution_count": null,
   "id": "93c57142",
   "metadata": {
    "id": "93c57142"
   },
   "outputs": [],
   "source": []
  },
  {
   "cell_type": "markdown",
   "id": "347a8aa2",
   "metadata": {
    "id": "347a8aa2"
   },
   "source": [
    "##### 50. Se eu desejasse comprar um imóvel que esteja ativo e com pelo menos uma avaliação em um dos bairros abaixo, qual seria o `id` do imóvel com a melhor rentabilidade dentre esses bairros? Utilize o índice calculado na questão 44."
   ]
  },
  {
   "cell_type": "markdown",
   "id": "095dfe95",
   "metadata": {
    "id": "095dfe95"
   },
   "source": [
    "* East Harlem\n",
    "* Harlem\n",
    "* Midtown\n",
    "* Morningside Heights\n",
    "* Upper West Side\n",
    "* Upper East Side"
   ]
  },
  {
   "cell_type": "code",
   "execution_count": null,
   "id": "43cc28eb",
   "metadata": {
    "id": "43cc28eb"
   },
   "outputs": [],
   "source": []
  },
  {
   "cell_type": "code",
   "execution_count": null,
   "id": "5bf4a514",
   "metadata": {
    "id": "5bf4a514"
   },
   "outputs": [],
   "source": []
  },
  {
   "cell_type": "code",
   "execution_count": null,
   "id": "98bfcbaf",
   "metadata": {
    "id": "98bfcbaf"
   },
   "outputs": [],
   "source": []
  },
  {
   "cell_type": "markdown",
   "id": "e6129e01",
   "metadata": {
    "id": "e6129e01"
   },
   "source": [
    "## Próximos Passos"
   ]
  },
  {
   "cell_type": "markdown",
   "id": "a79733c9",
   "metadata": {
    "id": "a79733c9"
   },
   "source": [
    "Como próximos passos para deixar o seu projeto um projeto de portifólio, crie um mapa, utilizando as técnicas aprendidas dentro do curso de Python do Zero ao DS, para demonstrar a densidade de imóveis por região ou bairro. \n",
    "\n",
    "Coloque também esse projeto em produção com o mapa desenhado e com quaisquer outras alterações ou melhorias que você queira! Não se esqueça de colocar o seu projeto no seu portifólio quando você terminar de melhorá-lo!"
   ]
  }
 ],
 "metadata": {
  "colab": {
   "name": "projeto_final_certificacao_aluno.ipynb",
   "provenance": []
  },
  "kernelspec": {
   "display_name": "Python 3 (ipykernel)",
   "language": "python",
   "name": "python3"
  },
  "language_info": {
   "codemirror_mode": {
    "name": "ipython",
    "version": 3
   },
   "file_extension": ".py",
   "mimetype": "text/x-python",
   "name": "python",
   "nbconvert_exporter": "python",
   "pygments_lexer": "ipython3",
   "version": "3.10.4"
  },
  "latex_envs": {
   "LaTeX_envs_menu_present": true,
   "autoclose": false,
   "autocomplete": true,
   "bibliofile": "biblio.bib",
   "cite_by": "apalike",
   "current_citInitial": 1,
   "eqLabelWithNumbers": true,
   "eqNumInitial": 1,
   "hotkeys": {
    "equation": "Ctrl-E",
    "itemize": "Ctrl-I"
   },
   "labels_anchors": false,
   "latex_user_defs": false,
   "report_style_numbering": false,
   "user_envs_cfg": false
  },
  "toc": {
   "base_numbering": 1,
   "nav_menu": {},
   "number_sections": false,
   "sideBar": true,
   "skip_h1_title": false,
   "title_cell": "Table of Contents",
   "title_sidebar": "Contents",
   "toc_cell": false,
   "toc_position": {},
   "toc_section_display": true,
   "toc_window_display": false
  }
 },
 "nbformat": 4,
 "nbformat_minor": 5
}
